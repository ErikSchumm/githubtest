{
 "cells": [
  {
   "cell_type": "markdown",
   "metadata": {},
   "source": [
    "# Exercise - Fundamentals of Python for Data Science\n",
    "\n",
    "<h3><span style=\"color:blue\">MOTD: 'Google is your friend!'</span></h3>"
   ]
  },
  {
   "cell_type": "markdown",
   "metadata": {},
   "source": [
    "## 0. A Python Easter Egg and More\n",
    "<h4><span style=\"color:blue\">0.1 Answer the following questions:</span></h4>\n",
    "* What happens when you `import this` in Python? (try it out and maybe someone is even \"contemplating\" what happens on \"medium\")\n",
    "\n",
    "* What does this have to do with PEP 8? (you should see what the people at [Real Python](https://realpython.com/python-pep8/) have to say about the latter and follow it in your Python programming!)\n",
    "\n",
    "* Does this in any way relate to *pythonic code*? (again, there might be some evidence found on \"towardsdatascience\")\n",
    "\n",
    "* Is there a way to check automagically whether your code complies to PEP 8? Is this also the case for Jupyter Notebooks?\n",
    "  If so, load the appropriate extension and allow lines that are longer than 80 characters (120, for example)"
   ]
  },
  {
   "cell_type": "code",
   "execution_count": null,
   "metadata": {},
   "outputs": [],
   "source": []
  },
  {
   "cell_type": "code",
   "execution_count": 1,
   "metadata": {},
   "outputs": [],
   "source": [
    "# make sure here, that you can check your code w.r.t. compliance to PEP 8\n"
   ]
  },
  {
   "cell_type": "code",
   "execution_count": 2,
   "metadata": {},
   "outputs": [],
   "source": [
    "# allow longer lines (not just 79 characters)\n"
   ]
  },
  {
   "cell_type": "markdown",
   "metadata": {},
   "source": [
    "## Scenario\n",
    "\n",
    "In the following, we shall concentrate on a very simple *scenario*: Suppose we have $n$ scores $x_1,x_2,\\dots,x_n$ and we want to calcuate the `mean` (a.k.a `average`), `variance` and `standard deviation` of these scores. \n",
    "\n",
    "To recapitulate (yes, we divide by $n$, not $n-1$, so we are computing the [*population variance*](http://www.differencebetween.net/science/mathematics-statistics/difference-between-sample-variance-population-variance/)): "
   ]
  },
  {
   "cell_type": "markdown",
   "metadata": {},
   "source": [
    "<b>`mean`</b>:  $$\\overline{x} = \\frac{1}{n} \\sum_{i=1}^n x_i = \\frac{x_1+x_2+...+x_i}{n}$$\n",
    "---\n",
    "**`variance`**: $$ var = \\frac{1}{n} \\sum_{i=1}^n (x_i - \\overline{x})^2$$\n",
    "---\n",
    "**`standard deviation`**: $$ \\sigma = \\sqrt{\\frac{1}{n} \\sum_{i=1}^n (x_i - \\overline{x})^2}$$\n",
    "---"
   ]
  },
  {
   "cell_type": "markdown",
   "metadata": {},
   "source": [
    "To broaden our scenario somewhat, let us further assume that the scores were produced by applying some model for a real life task and that in addition we also have $n$ *observations* $y_1,y_2,\\dots,y_n$ that we can compare the scores to. Then, we often compute the [*sum of squared errors*](https://365datascience.com/sum-squares/) as a measure for how well our model was able to reproduce the observations."
   ]
  },
  {
   "cell_type": "markdown",
   "metadata": {},
   "source": [
    "**`SSE`**: $$ s =  \\sum_{i=1}^n (x_i - y_i)^2$$\n",
    "---"
   ]
  },
  {
   "cell_type": "markdown",
   "metadata": {},
   "source": [
    "## Concrete Starting Scenario\n",
    "To make things concrete, let us start with the following \n",
    "* 8 scores: 45, 68,73, 85, 95, 88, 76, 82 and \n",
    "* 10 observations: 50, 65, 78, 84, 95, 85, 74, 83, 90, 88"
   ]
  },
  {
   "cell_type": "markdown",
   "metadata": {},
   "source": [
    "## 1. Python as a calculator"
   ]
  },
  {
   "cell_type": "markdown",
   "metadata": {},
   "source": [
    "<h4><span style=\"color:blue\">1.1 Complete the following tasks based on the concrete starting scenario above</span></h4>\n",
    "\n",
    "1. Calculate the mean of the scores.\n",
    "2. Find the data type of the individual scores"
   ]
  },
  {
   "cell_type": "code",
   "execution_count": null,
   "metadata": {},
   "outputs": [],
   "source": []
  },
  {
   "cell_type": "markdown",
   "metadata": {},
   "source": [
    "## 2.  Variables, expressions, statements\n",
    "<h4><span style=\"color:blue\">2.1 Complete the following tasks:</span></h4>\n",
    "\n",
    "1. Save the number of scores available to a variable.\n",
    "2. Use the variable to calculate the mean and again save the result in a variable. \n",
    "3. Display the data type of the result. \n",
    "4. Print out the result. \n",
    "\n",
    ">**Note**: Make sure you always use markdown (or comments) to make it clear what exactly you are doing (i.e. which one of the tasks you are tackling)"
   ]
  },
  {
   "cell_type": "code",
   "execution_count": null,
   "metadata": {},
   "outputs": [],
   "source": []
  },
  {
   "cell_type": "markdown",
   "metadata": {},
   "source": [
    "### 2. A Formatting output\n",
    "<h4><span style=\"color:blue\"> 2.2 Find three ways to print out a whole sentence, which makes it clear what the meaning of the printed value is.</span></h4>\n",
    "\n",
    "\n",
    ">**Hint**: Check out [this tutorial](http://zetcode.com/python/fstring/) or [this one](https://realpython.com/python-f-strings/) to help you with the task. Take good note of the power of *f-strings*!"
   ]
  },
  {
   "cell_type": "markdown",
   "metadata": {},
   "source": [
    "## 3. Lists"
   ]
  },
  {
   "cell_type": "markdown",
   "metadata": {},
   "source": [
    "<h4><span style=\"color:blue\">3.1 Complete the following tasks:</span></h4>\n",
    "\n",
    "1. Create a list with the 8 scores above as elements in the list.\n",
    "2. Add 2 more scores 86, 93 to the newly created list.\n",
    "                \n",
    ">**Hints**: \n",
    "* You should check out [`append()` or `extend()`](https://www.geeksforgeeks.org/append-extend-python/)\n",
    "* The final result should be a list of 10 elements: [45, 68, 73, 85, 95, 88, 76, 82, 86, 93] "
   ]
  },
  {
   "cell_type": "code",
   "execution_count": null,
   "metadata": {},
   "outputs": [],
   "source": []
  },
  {
   "cell_type": "markdown",
   "metadata": {},
   "source": [
    "### 3.A Slicing. \n",
    "\n",
    "Try and test the following examples yourself first and then do the exercises below:                \n",
    "\n",
    "> **Hint**:                    \n",
    "List slicing uses the symbol `:` to access parts of a list:\n",
    "```python\n",
    "list[first_index:last_index:step]\n",
    "list[:]\n",
    "```\n",
    "Note that `first_index` is included in the result, while `last_index` is **not**!\n",
    "By default the first index is 0, the last index is the last one, and the step is 1. The step is optional. A good explanation may be found on [StackOverflow](https://stackoverflow.com/questions/509211/understanding-slice-notation).\n",
    "\n",
    "```python\n",
    "# Example: \n",
    "# List slicing\n",
    "a = [0, 1, 2, 3, 4, 5]\n",
    "a[:2] # the first 2 elements in the list 1, i.e a[0] and a[1]\n",
    "a[2:] # elements from a[2] to the end  \n",
    "a[2:-1] # elements from a[2] to the last one (exclusive) # index the last index of a sequence by using -1\n",
    "a[::2] # every each other \n",
    "```\n",
    "```python\n",
    "# The following slices are equivalent\n",
    "a = [1, 2, 3, 4, 5, 6, 7, 8]\n",
    "a[:]\n",
    "a[::1]\n",
    "a[0::1]\n",
    "\n",
    "```"
   ]
  },
  {
   "cell_type": "markdown",
   "metadata": {},
   "source": [
    "<h4><span style=\"color:blue\">3.2 Select from the list of scores you created above:</span></h4>\n",
    "\n",
    "1. the first 4 of elements\n",
    "2. all elements but the last one\n",
    "3. the last element \n",
    "4. every second element from the list of scores\n",
    "5. the elements in reverse order\n",
    "6. all the elements in the list (at least 3 ways)"
   ]
  },
  {
   "cell_type": "code",
   "execution_count": null,
   "metadata": {},
   "outputs": [],
   "source": []
  },
  {
   "cell_type": "markdown",
   "metadata": {},
   "source": [
    "## 4 Flow control \n",
    "<h4><span style=\"color:blue\">4.1 Find at least two ways to print out all the elements in the list of scores <em>individually</em> .</span></h4>\n",
    "\n",
    ">**Note**: Not every way has to be pythonic here - indeed, this should be impossible since according to the Zen of Python \"There should be one-- and preferably only one --obvious way to do it.\" Obviously, you will have to use some form of a *loop*."
   ]
  },
  {
   "cell_type": "code",
   "execution_count": null,
   "metadata": {},
   "outputs": [],
   "source": []
  },
  {
   "cell_type": "markdown",
   "metadata": {},
   "source": [
    "<h4><span style=\"color:blue\">4.2 Find at least two ways to print out elements greater than 80 from the list of scores.</span></h4>"
   ]
  },
  {
   "cell_type": "code",
   "execution_count": null,
   "metadata": {},
   "outputs": [],
   "source": []
  },
  {
   "cell_type": "markdown",
   "metadata": {},
   "source": [
    "<h4><span style=\"color:blue\"> 4.3 Find a way to print both the index as well as the value for elements greater than 80 <em>in an informative way</em></span></h4>\n",
    "\n",
    "> **Hint**: Check out `enumerate` for a pythonic solution!"
   ]
  },
  {
   "cell_type": "code",
   "execution_count": null,
   "metadata": {},
   "outputs": [],
   "source": []
  },
  {
   "cell_type": "markdown",
   "metadata": {},
   "source": [
    "## 5. Functions"
   ]
  },
  {
   "cell_type": "markdown",
   "metadata": {},
   "source": [
    "### Define functions\n",
    "<h4><span style=\"color:blue\"> 5.1 Given a list of values, define functions</span></h4>\n",
    "\n",
    "1. to compute the *mean* of the values;\n",
    "2. to compute the *variance* of the values;\n",
    "3. to compute the *standard deviation* of the values.\n",
    "4. Finally, assuming you have two lists of values, one of which contains observations and the other contains model outputs (scores), define a function to compute the *sum of squared errors*.\n",
    "\n",
    ">**Notes/Hints**: \n",
    "* *Do not import* any additional libraries, just use the built-in abilities of Python (one of which is the `sum` function)\n",
    "* You may assume that the lists contain numeric values only, i.e., you do not have to check this!\n",
    "* You may assume that the lists containing the observations and the scores are of equal length.\n",
    "* Prove that your functions work using the list of scores (e.g. by comparing the mean to the result you got before)."
   ]
  },
  {
   "cell_type": "code",
   "execution_count": null,
   "metadata": {},
   "outputs": [],
   "source": []
  },
  {
   "cell_type": "markdown",
   "metadata": {},
   "source": [
    "## 6. Numpy\n",
    "\n",
    "### 6.A Arrays\n",
    "<h4><span style=\"color:blue\">6.1 Complete the following tasks:</span></h4>\n",
    "\n",
    "1. Create a `numpy` array holding all 10 scores. \n",
    "2. Check the type of the array\n",
    "3. Find out the dimensions of the array\n",
    "4. Find out the data type of the array's elements \n",
    "\n",
    "(Google is your friend, especially for tasks 3 and 4).\n",
    "\n",
    ">**Hint**: You must import the necessary package `numpy` as `np` first and then use `np.array()` to create an array. "
   ]
  },
  {
   "cell_type": "code",
   "execution_count": null,
   "metadata": {},
   "outputs": [],
   "source": []
  },
  {
   "cell_type": "markdown",
   "metadata": {},
   "source": [
    "### 6.B Slicing\n",
    "<h4><span style=\"color:blue\">6.2 Select from the <tt>numpy</tt> array of scores you created above (see exercise 3.2):</span></h4>\n",
    "\n",
    "1. the first 4 of elements\n",
    "2. all elements but the last one\n",
    "3. the last element \n",
    "4. every second element from the list of scores\n",
    "5. the elements in reverse order\n",
    "6. all the elements in the list (at least 3 ways)\n",
    "\n",
    "Once you have done this, try answering the question what difference it makes to use `numpy` arrays instead of Python lists."
   ]
  },
  {
   "cell_type": "code",
   "execution_count": null,
   "metadata": {},
   "outputs": [],
   "source": []
  },
  {
   "cell_type": "markdown",
   "metadata": {},
   "source": [
    "### 6.C 2-Dimensional Arrays\n",
    "\n",
    "<h4><span style=\"color:blue\">6.3 Complete the following tasks:</span></h4>\n",
    "\n",
    "1. Convert the array of scores into a two dimensional array with 2 rows and five columns\n",
    "2. Display the shape of the new array\n",
    "3. Show the data type of the new array's elements\n",
    "4. Check the type of the new array"
   ]
  },
  {
   "cell_type": "code",
   "execution_count": null,
   "metadata": {},
   "outputs": [],
   "source": []
  },
  {
   "cell_type": "markdown",
   "metadata": {},
   "source": [
    "### 6.D Multi-Dimensional Slicing: \n",
    "\n",
    "<h4><span style=\"color:blue\">6.4  Select from the 2 dimensional <tt>numpy</tt> array of scores</span></h4>\n",
    "\n",
    "1. all but the last column \n",
    "2. just the last column"
   ]
  },
  {
   "cell_type": "code",
   "execution_count": null,
   "metadata": {},
   "outputs": [],
   "source": []
  },
  {
   "cell_type": "markdown",
   "metadata": {},
   "source": [
    "### 6.E  Array Calculations\n",
    "\n",
    "<h4><span style=\"color:blue\">6.5  Use <tt>numpy</tt> to compute</span></h4>\n",
    "\n",
    "1. the mean of the scores\n",
    "2. the variance of the scores\n",
    "3. the standard deviation of the scores\n",
    "4. the sum of squared errors of the scores vs. the observations\n",
    "\n",
    "Do this based on the Python lists as well as based on the `numpy` arrays (one dimensional)!\n",
    "[print(score)            \n",
    ">**Note**: More on *vectorized operations* in `numpy` may be found on [Python Like You Mean It](https://www.pythonlikeyoumeanit.com/Module3_IntroducingNumpy/VectorizedOperations.html)."
   ]
  },
  {
   "cell_type": "code",
   "execution_count": null,
   "metadata": {},
   "outputs": [],
   "source": []
  },
  {
   "cell_type": "markdown",
   "metadata": {},
   "source": [
    "## 7. Lambda Functions"
   ]
  },
  {
   "cell_type": "markdown",
   "metadata": {},
   "source": [
    ">Note: A lambda function is a small anonymous function. A lambda function can take any number of arguments, but can only have one expression.                   \n",
    "**Syntax:** \n",
    "**_`lambda argument_list : expression`_**\n",
    "\n",
    "Example: instead of using the (named) function `add()`, we could use an (anonymous) lambda function \n",
    "\n",
    "```python\n",
    "#function to add 2 numbers\n",
    "def add (x,y):\n",
    "    return x+y\n",
    "add(2,5)\n",
    "\n",
    "# using a lambda function to add numbers \"anonymously\"\n",
    "(lambda x,y: x+y)(2, 5)\n",
    "\n",
    "```"
   ]
  },
  {
   "cell_type": "markdown",
   "metadata": {},
   "source": [
    "<h4><span style=\"color:blue\">7.1 What happens when you use automatic checking for PEP 8 compatibility and assign a name to a lambda function?</span></h4>\n",
    "\n",
    ">**Hint**: Try it out using `add_lam` as a name for the lambda function to add two numbers above"
   ]
  },
  {
   "cell_type": "code",
   "execution_count": null,
   "metadata": {},
   "outputs": [],
   "source": []
  },
  {
   "cell_type": "markdown",
   "metadata": {},
   "source": [
    "<h4><span style=\"color:blue\">7.2 Use an anonymous lambda function to compute the mean of a Python list (or <tt>numpy</tt> array) </span></h4>\n",
    "\n",
    "\n",
    ">**Hint**: You may use the built-in function `sum()` in this context."
   ]
  },
  {
   "cell_type": "code",
   "execution_count": null,
   "metadata": {},
   "outputs": [],
   "source": []
  },
  {
   "cell_type": "markdown",
   "metadata": {},
   "source": [
    "<h4><span style=\"color:blue\">7.3 Do you think lambda functions are useful at all in Python?</span></h4>\n",
    "\n",
    "> **Note**: Substantiate your answer with a suitable reference!"
   ]
  },
  {
   "cell_type": "code",
   "execution_count": null,
   "metadata": {},
   "outputs": [],
   "source": []
  }
 ],
 "metadata": {
  "kernelspec": {
   "display_name": "Python 3",
   "language": "python",
   "name": "python3"
  },
  "language_info": {
   "codemirror_mode": {
    "name": "ipython",
    "version": 3
   },
   "file_extension": ".py",
   "mimetype": "text/x-python",
   "name": "python",
   "nbconvert_exporter": "python",
   "pygments_lexer": "ipython3",
   "version": "3.8.3"
  }
 },
 "nbformat": 4,
 "nbformat_minor": 4
}
